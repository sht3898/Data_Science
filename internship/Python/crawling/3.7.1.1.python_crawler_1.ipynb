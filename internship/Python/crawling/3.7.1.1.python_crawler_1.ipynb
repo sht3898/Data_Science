{
 "cells": [
  {
   "cell_type": "code",
   "execution_count": 10,
   "metadata": {},
   "outputs": [],
   "source": [
    "import requests\n",
    "import lxml.html"
   ]
  },
  {
   "cell_type": "code",
   "execution_count": 11,
   "metadata": {},
   "outputs": [
    {
     "name": "stdout",
     "output_type": "stream",
     "text": [
      "/store/books/look.php?p_code=B9143267027\n",
      "javascript:;\n",
      "/store/books/look.php?p_code=B9143267027\n",
      "/store/books/look.php?p_code=B3517216657\n",
      "javascript:;\n",
      "/store/books/look.php?p_code=B3517216657\n",
      "/store/books/look.php?p_code=B4872223435\n",
      "javascript:;\n",
      "/store/books/look.php?p_code=B4872223435\n",
      "/store/books/look.php?p_code=B9279330130\n",
      "javascript:;\n",
      "/store/books/look.php?p_code=B9279330130\n",
      "/store/books/look.php?p_code=B6787201225\n",
      "javascript:;\n",
      "/store/books/look.php?p_code=B6787201225\n",
      "/store/books/look.php?p_code=B3963656224\n",
      "javascript:;\n",
      "/store/books/look.php?p_code=B3963656224\n",
      "/store/books/look.php?p_code=B1740090592\n",
      "javascript:;\n",
      "/store/books/look.php?p_code=B1740090592\n",
      "/store/books/look.php?p_code=B2672932319\n",
      "javascript:;\n",
      "/store/books/look.php?p_code=B2672932319\n",
      "/store/books/look.php?p_code=B3872657116\n",
      "javascript:;\n",
      "/store/books/look.php?p_code=B3872657116\n",
      "/store/books/look.php?p_code=B8226621719\n",
      "javascript:;\n",
      "/store/books/look.php?p_code=B8226621719\n",
      "/store/books/look.php?p_code=B9479195027\n",
      "javascript:;\n",
      "/store/books/look.php?p_code=B9479195027\n",
      "/store/books/look.php?p_code=B8945183661\n",
      "javascript:;\n",
      "/store/books/look.php?p_code=B8945183661\n",
      "/store/books/look.php?p_code=B8460934222\n",
      "javascript:;\n",
      "/store/books/look.php?p_code=B8460934222\n",
      "/store/books/look.php?p_code=B1191734987\n",
      "javascript:;\n",
      "/store/books/look.php?p_code=B1191734987\n",
      "/store/books/look.php?p_code=B2082711299\n",
      "javascript:;\n",
      "/store/books/look.php?p_code=B2082711299\n",
      "/store/books/look.php?p_code=B5877288702\n",
      "javascript:;\n",
      "/store/books/look.php?p_code=B5877288702\n",
      "/store/books/look.php?p_code=B1825116777\n",
      "javascript:;\n",
      "/store/books/look.php?p_code=B1825116777\n",
      "/store/books/look.php?p_code=B5937482728\n",
      "javascript:;\n",
      "/store/books/look.php?p_code=B5937482728\n",
      "/store/books/look.php?p_code=B8656803901\n",
      "javascript:;\n",
      "/store/books/look.php?p_code=B8656803901\n",
      "/store/books/look.php?p_code=B3397547488\n",
      "javascript:;\n",
      "/store/books/look.php?p_code=B3397547488\n"
     ]
    }
   ],
   "source": [
    "response = requests.get('http://www.hanbit.co.kr/store/books/new_book_list.html')\n",
    "root = lxml.html.fromstring(response.content)\n",
    "for a in root.cssselect('.view_box a'):\n",
    "    url = a.get('href')\n",
    "    print(url)"
   ]
  }
 ],
 "metadata": {
  "kernelspec": {
   "display_name": "Python 3",
   "language": "python",
   "name": "python3"
  },
  "language_info": {
   "codemirror_mode": {
    "name": "ipython",
    "version": 3
   },
   "file_extension": ".py",
   "mimetype": "text/x-python",
   "name": "python",
   "nbconvert_exporter": "python",
   "pygments_lexer": "ipython3",
   "version": "3.8.3"
  }
 },
 "nbformat": 4,
 "nbformat_minor": 4
}
